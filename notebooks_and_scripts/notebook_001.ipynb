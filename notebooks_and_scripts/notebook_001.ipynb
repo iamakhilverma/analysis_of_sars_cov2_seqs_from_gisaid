{
 "cells": [
  {
   "cell_type": "markdown",
   "id": "c823e442",
   "metadata": {},
   "source": [
    "This notebook contains the analysis for Figures 1, 3 and Supplementary figures 1, 2, 3, 4 in the publication [\"The Slowing Rate of CpG Depletion in SARS-CoV-2 Genomes Is Consistent with Adaptations to the Human Host\"](https://academic.oup.com/mbe/article/39/3/msac029/6521032)"
   ]
  },
  {
   "cell_type": "code",
   "execution_count": 1,
   "id": "15834ac6",
   "metadata": {},
   "outputs": [],
   "source": [
    "# %reset"
   ]
  },
  {
   "cell_type": "markdown",
   "id": "c888f717",
   "metadata": {},
   "source": [
    "# Library imports"
   ]
  },
  {
   "cell_type": "code",
   "execution_count": 2,
   "id": "de48dcd6",
   "metadata": {},
   "outputs": [],
   "source": [
    "import numpy as np\n",
    "import pandas as pd\n",
    "from scipy import stats"
   ]
  },
  {
   "cell_type": "markdown",
   "id": "fc33f272",
   "metadata": {},
   "source": [
    "Library version used:\n",
    "- scipy: v1.7.1\n",
    "- np: v1.21.2\n",
    "- pd: v1.3.3\n",
    "- sns: v0.11.2\n",
    "- matplotlib: v3.4.2"
   ]
  },
  {
   "cell_type": "markdown",
   "id": "1904bbe8",
   "metadata": {},
   "source": [
    "# Data import"
   ]
  },
  {
   "cell_type": "code",
   "execution_count": 3,
   "id": "fe969b73",
   "metadata": {},
   "outputs": [
    {
     "name": "stdout",
     "output_type": "stream",
     "text": [
      "df_alpha shape: (778419, 13)\n",
      "df_beta shape: (20534, 13)\n",
      "df_gamma shape: (54138, 13)\n",
      "df_delta shape: (442530, 13)\n",
      "df shape: (2151699, 13)\n",
      "df_omicron shape: (5877, 13)\n",
      "absent_accession_ids_in_msa shape: (3386, 1)\n"
     ]
    }
   ],
   "source": [
    "df_alpha = pd.read_csv('../csv_files/voc_alpha.csv').drop_duplicates()\n",
    "df_beta = pd.read_csv('../csv_files/voc_beta.csv').drop_duplicates()\n",
    "df_gamma = pd.read_csv('../csv_files/voc_gamma.csv').drop_duplicates()\n",
    "df_delta = pd.read_csv('../csv_files/voc_delta.csv').drop_duplicates()\n",
    "df = pd.read_csv('../csv_files/sars_cov2.csv').drop_duplicates()\n",
    "df_omicron = pd.read_csv('../csv_files/voc_omicron.csv').drop_duplicates()\n",
    "absent_accession_ids_in_msa = pd.read_csv('../csv_files/absent_accession_ids_in_msa.csv').drop_duplicates()\n",
    "\n",
    "print(\n",
    "    f'df_alpha shape: {df_alpha.shape}\\n'\n",
    "    f'df_beta shape: {df_beta.shape}\\n'\n",
    "    f'df_gamma shape: {df_gamma.shape}\\n'\n",
    "    f'df_delta shape: {df_delta.shape}\\n'\n",
    "    f'df shape: {df.shape}\\n'\n",
    "    f'df_omicron shape: {df_omicron.shape}'\n",
    ")\n",
    "print(f'absent_accession_ids_in_msa shape: {absent_accession_ids_in_msa.shape}')"
   ]
  },
  {
   "cell_type": "markdown",
   "id": "9583cf2c",
   "metadata": {},
   "source": [
    "# Some Initializations"
   ]
  },
  {
   "cell_type": "code",
   "execution_count": 4,
   "id": "6263d833",
   "metadata": {},
   "outputs": [],
   "source": [
    "df_alpha.name = 'VOC_alpha'\n",
    "df_beta.name = 'VOC_beta'\n",
    "df_gamma.name = 'VOC_gamma'\n",
    "df_delta.name = 'VOC_delta'\n",
    "df.name = 'Complete'\n",
    "df_omicron.name = 'VOC Omicron'"
   ]
  },
  {
   "cell_type": "code",
   "execution_count": 5,
   "id": "a8281964",
   "metadata": {},
   "outputs": [],
   "source": [
    "list_of_dfs = [df_alpha, df_beta, df_gamma, df_delta, df, df_omicron]"
   ]
  },
  {
   "cell_type": "code",
   "execution_count": 6,
   "id": "aed0f96c",
   "metadata": {},
   "outputs": [],
   "source": [
    "def get_all_dfs_info():\n",
    "    print(\n",
    "        f'df_alpha shape: {df_alpha.shape}\\n'\n",
    "        f'df_beta shape: {df_beta.shape}\\n'\n",
    "        f'df_gamma shape: {df_gamma.shape}\\n'\n",
    "        f'df_delta shape: {df_delta.shape}\\n'\n",
    "        f'df shape: {df.shape}\\n'\n",
    "        f'df_omicron shape: {df_omicron.shape}'\n",
    "    )"
   ]
  },
  {
   "cell_type": "markdown",
   "id": "a41bb30e",
   "metadata": {},
   "source": [
    "# Extract dates of sample collection, location of sample collection, accession IDs of sequence"
   ]
  },
  {
   "cell_type": "code",
   "execution_count": 7,
   "id": "fa15a6c1",
   "metadata": {},
   "outputs": [
    {
     "name": "stdout",
     "output_type": "stream",
     "text": [
      "df_alpha shape: (778419, 16)\n",
      "df_beta shape: (20534, 16)\n",
      "df_gamma shape: (54138, 16)\n",
      "df_delta shape: (442530, 16)\n",
      "df shape: (2151699, 16)\n",
      "df_omicron shape: (5877, 16)\n"
     ]
    }
   ],
   "source": [
    "for DF in list_of_dfs:\n",
    "    DF['dates'] = DF['info'].str.rsplit('|', 1).str[1]\n",
    "    DF['location'] = DF['info'].str.split('/').str[1]\n",
    "    DF['accession_ids'] = DF['info'].str.split('|').str[1]\n",
    "\n",
    "get_all_dfs_info()"
   ]
  },
  {
   "cell_type": "markdown",
   "id": "fd1e601d",
   "metadata": {},
   "source": [
    "# Datetime manipulation, Infection Timeline"
   ]
  },
  {
   "cell_type": "code",
   "execution_count": 8,
   "id": "3fa8ee13",
   "metadata": {
    "scrolled": true
   },
   "outputs": [
    {
     "name": "stdout",
     "output_type": "stream",
     "text": [
      "df_alpha shape: (720376, 17)\n",
      "df_beta shape: (18428, 17)\n",
      "df_gamma shape: (39550, 17)\n",
      "df_delta shape: (37160, 17)\n",
      "df shape: (1612859, 17)\n",
      "df_omicron shape: (5877, 17)\n"
     ]
    }
   ],
   "source": [
    "def date_manipulations(DF):\n",
    "    DF.loc[:, 'dates'] = pd.to_datetime(DF.loc[:, 'dates'])\n",
    "    if not DF.name == 'VOC Omicron':\n",
    "        DF = DF.loc[DF.loc[:, 'dates'] <= '2021-05-31']\n",
    "    DF = DF.assign(Infection_Timeline=pd.to_datetime(DF.loc[:, 'dates'], format='%Y-%m-%d'))\n",
    "    DF.loc[:, 'Infection_Timeline'] = DF.loc[:, 'Infection_Timeline'].dt.strftime('%b-%y')\n",
    "    DF = DF.sort_values(by='dates')\n",
    "    return DF\n",
    "\n",
    "\n",
    "df_alpha = date_manipulations(df_alpha)\n",
    "df_beta = date_manipulations(df_beta)\n",
    "df_gamma = date_manipulations(df_gamma)\n",
    "df_delta = date_manipulations(df_delta)\n",
    "df = date_manipulations(df)\n",
    "df_omicron = date_manipulations(df_omicron)\n",
    "\n",
    "get_all_dfs_info()"
   ]
  },
  {
   "cell_type": "markdown",
   "id": "560df8e2",
   "metadata": {},
   "source": [
    "# Data filteration"
   ]
  },
  {
   "cell_type": "markdown",
   "id": "644e356c",
   "metadata": {},
   "source": [
    "## Excluding sequences less than 29,700 or more than 30,000 nucleotides"
   ]
  },
  {
   "cell_type": "code",
   "execution_count": 9,
   "id": "581d39e6",
   "metadata": {},
   "outputs": [
    {
     "name": "stdout",
     "output_type": "stream",
     "text": [
      "df_alpha shape: (663321, 17)\n",
      "df_beta shape: (16859, 17)\n",
      "df_gamma shape: (36302, 17)\n",
      "df_delta shape: (35886, 17)\n",
      "df shape: (1510286, 17)\n",
      "df_omicron shape: (5698, 17)\n"
     ]
    }
   ],
   "source": [
    "def seq_len_filter(DF):\n",
    "    DF.query('seq_len >= 29700 and seq_len_adjusted <= 30000', inplace=True)\n",
    "    # should've used seq_len length only at both places, \n",
    "    # makes a diff of 8 entries finally, so, a minor error\n",
    "    # DF.query('seq_len >= 29700 and seq_len <= 30000', inplace=True)\n",
    "\n",
    "    \n",
    "seq_len_filter(df_alpha)\n",
    "seq_len_filter(df_beta)\n",
    "seq_len_filter(df_gamma)\n",
    "seq_len_filter(df_delta)\n",
    "seq_len_filter(df)\n",
    "seq_len_filter(df_omicron)\n",
    "\n",
    "get_all_dfs_info()"
   ]
  },
  {
   "cell_type": "markdown",
   "id": "7269eeb5",
   "metadata": {},
   "source": [
    "## Excluding sequences with ≥300 Ns (ambiguous base-positions)"
   ]
  },
  {
   "cell_type": "code",
   "execution_count": 10,
   "id": "bd1ff47a",
   "metadata": {},
   "outputs": [
    {
     "name": "stdout",
     "output_type": "stream",
     "text": [
      "df_alpha shape: (662875, 17)\n",
      "df_beta shape: (16854, 17)\n",
      "df_gamma shape: (36290, 17)\n",
      "df_delta shape: (35855, 17)\n",
      "df shape: (1508737, 17)\n",
      "df_omicron shape: (5693, 17)\n"
     ]
    }
   ],
   "source": [
    "def ambiguous_bases_filter(DF):\n",
    "    DF.query('ambiguous_base_count < 300', inplace=True)\n",
    "\n",
    "\n",
    "ambiguous_bases_filter(df_alpha)\n",
    "ambiguous_bases_filter(df_beta)\n",
    "ambiguous_bases_filter(df_gamma)\n",
    "ambiguous_bases_filter(df_delta)\n",
    "ambiguous_bases_filter(df)\n",
    "ambiguous_bases_filter(df_omicron)\n",
    "\n",
    "get_all_dfs_info()"
   ]
  },
  {
   "cell_type": "markdown",
   "id": "2ffb0434",
   "metadata": {},
   "source": [
    "## Separating unclassified from variants"
   ]
  },
  {
   "cell_type": "markdown",
   "id": "4fbd0b26",
   "metadata": {},
   "source": [
    "NOTE: There was a difference (of around a week) in date of sequence collection for the complete dataset and for the variants from GISAID. The difference of 52 entries in the following code-block pertains to that."
   ]
  },
  {
   "cell_type": "code",
   "execution_count": 11,
   "id": "59828a23",
   "metadata": {},
   "outputs": [
    {
     "name": "stdout",
     "output_type": "stream",
     "text": [
      "df_all_var shape: (751874, 17)\n",
      "df_unclassified shape: (756915, 17)\n",
      "Difference: -52\n"
     ]
    }
   ],
   "source": [
    "df_all_var = pd.concat([df_alpha, df_beta, df_gamma, df_delta])\n",
    "print(f'df_all_var shape: {df_all_var.shape}')\n",
    "\n",
    "df_unclassified = df[~df.accession_ids.isin(df_all_var.accession_ids)]\n",
    "print(f'df_unclassified shape: {df_unclassified.shape}')\n",
    "\n",
    "print(f'Difference: {len(df) - len(df_all_var) - len(df_unclassified)}')"
   ]
  },
  {
   "cell_type": "code",
   "execution_count": 12,
   "id": "b8fd1bd7",
   "metadata": {},
   "outputs": [],
   "source": [
    "df_all_var.name = 'All_variants'\n",
    "df_unclassified.name = 'Unclassified'\n",
    "\n",
    "# Redefining to add df_unclassified in our quick print method\n",
    "def get_all_dfs_info():\n",
    "    print(\n",
    "        f'df_alpha shape: {df_alpha.shape}\\n'\n",
    "        f'df_beta shape: {df_beta.shape}\\n'\n",
    "        f'df_gamma shape: {df_gamma.shape}\\n'\n",
    "        f'df_delta shape: {df_delta.shape}\\n'\n",
    "        f'df_unclassified shape: {df_unclassified.shape}\\n'\n",
    "        f'df shape: {df.shape}\\n'\n",
    "        f'df_omicron shape: {df_omicron.shape}'\n",
    "    )"
   ]
  },
  {
   "cell_type": "markdown",
   "id": "fa7502ae",
   "metadata": {},
   "source": [
    "## Excluding sequences with a Z score ≥3 for nucleotide composition, GC content, dinucleotide odds ratio for CpG and GpC, and CpG numbers and percentages"
   ]
  },
  {
   "cell_type": "code",
   "execution_count": 13,
   "id": "1d9696a1",
   "metadata": {},
   "outputs": [],
   "source": [
    "def zscore_filtration(DF, colname_list):\n",
    "    for colname in colname_list:\n",
    "        DF = DF[np.abs(stats.zscore(DF[colname])) < 3]\n",
    "    return DF"
   ]
  },
  {
   "cell_type": "code",
   "execution_count": 14,
   "id": "290fddba",
   "metadata": {},
   "outputs": [
    {
     "name": "stdout",
     "output_type": "stream",
     "text": [
      "df_alpha shape: (618066, 17)\n",
      "df_beta shape: (16286, 17)\n",
      "df_gamma shape: (34300, 17)\n",
      "df_delta shape: (32121, 17)\n",
      "df_unclassified shape: (719601, 17)\n",
      "df shape: (1413725, 17)\n",
      "df_omicron shape: (5436, 17)\n"
     ]
    }
   ],
   "source": [
    "list_of_cols = [\n",
    "    'count_CG', \n",
    "    'ObyE_CG', \n",
    "    'ObyE_GC', \n",
    "    'percent_CG', \n",
    "    'percent_A', \n",
    "    'percent_C', \n",
    "    'percent_G', \n",
    "    'percent_T', \n",
    "    'GC_content'\n",
    "]\n",
    "\n",
    "df_alpha = zscore_filtration(df_alpha, list_of_cols)\n",
    "df_beta = zscore_filtration(df_beta, list_of_cols)\n",
    "df_gamma = zscore_filtration(df_gamma, list_of_cols)\n",
    "df_delta = zscore_filtration(df_delta, list_of_cols)\n",
    "df_unclassified = zscore_filtration(df_unclassified, list_of_cols)\n",
    "df = zscore_filtration(df, list_of_cols)\n",
    "df_omicron = zscore_filtration(df_omicron, list_of_cols)\n",
    "\n",
    "get_all_dfs_info()"
   ]
  },
  {
   "cell_type": "markdown",
   "id": "ad59ec42",
   "metadata": {},
   "source": [
    "## Excluding entries from outside China before January 13, 2020, as there were no documented cases outside China in this period (Li et al. 2020)"
   ]
  },
  {
   "cell_type": "markdown",
   "id": "7a115e81",
   "metadata": {},
   "source": [
    "Such an entry shouln't exist in any of these variants dataset, so, it'll act as a check as well."
   ]
  },
  {
   "cell_type": "code",
   "execution_count": 15,
   "id": "e8d0a974",
   "metadata": {
    "scrolled": false
   },
   "outputs": [
    {
     "name": "stdout",
     "output_type": "stream",
     "text": [
      "df_alpha shape: (618066, 17)\n",
      "df_beta shape: (16286, 17)\n",
      "df_gamma shape: (34300, 17)\n",
      "df_delta shape: (32121, 17)\n",
      "df_unclassified shape: (719588, 17)\n",
      "df shape: (1413714, 17)\n",
      "df_omicron shape: (5436, 17)\n"
     ]
    }
   ],
   "source": [
    "def nonwuhan_before_jan13(DF):\n",
    "    DF.drop(\n",
    "        DF[\n",
    "            (DF['dates'] < \"2020-01-13\") & (\n",
    "                (DF['location'] == 'USA')\n",
    "                | (DF['location'] == 'Japan')\n",
    "                | (DF['location'] == 'Thailand')\n",
    "            )\n",
    "\n",
    "        ].index,\n",
    "        inplace=True\n",
    "    )\n",
    "    return DF\n",
    "\n",
    "\n",
    "df_alpha = nonwuhan_before_jan13(df_alpha)\n",
    "df_beta = nonwuhan_before_jan13(df_beta)\n",
    "df_gamma = nonwuhan_before_jan13(df_gamma)\n",
    "df_delta = nonwuhan_before_jan13(df_delta)\n",
    "df_unclassified = nonwuhan_before_jan13(df_unclassified)\n",
    "df = nonwuhan_before_jan13(df)\n",
    "df_omicron = nonwuhan_before_jan13(df_omicron)\n",
    "    \n",
    "get_all_dfs_info()"
   ]
  },
  {
   "cell_type": "markdown",
   "id": "166d70de",
   "metadata": {},
   "source": [
    "## Excluding the full-length sequences that were not included in the multiple sequence alignment (MSA) available in GISAID (as on September 6, 2021 for samples collected from January 1, 2020 to May 31, 2021)"
   ]
  },
  {
   "cell_type": "code",
   "execution_count": 16,
   "id": "a5205002",
   "metadata": {},
   "outputs": [
    {
     "name": "stdout",
     "output_type": "stream",
     "text": [
      "df_alpha shape: (616626, 17)\n",
      "df_beta shape: (16247, 17)\n",
      "df_gamma shape: (34162, 17)\n",
      "df_delta shape: (32109, 17)\n",
      "df_unclassified shape: (717950, 17)\n",
      "df shape: (1410423, 17)\n",
      "df_omicron shape: (5436, 17)\n"
     ]
    }
   ],
   "source": [
    "def seq_na_in_msa_filter(DF):\n",
    "    DF = DF[~DF.accession_ids.isin(absent_accession_ids_in_msa.accession_ids)]\n",
    "    return DF\n",
    "\n",
    "\n",
    "df_alpha = seq_na_in_msa_filter(df_alpha)\n",
    "df_beta = seq_na_in_msa_filter(df_beta)\n",
    "df_gamma = seq_na_in_msa_filter(df_gamma)\n",
    "df_delta = seq_na_in_msa_filter(df_delta)\n",
    "df_unclassified = seq_na_in_msa_filter(df_unclassified)\n",
    "df = seq_na_in_msa_filter(df)\n",
    "df_omicron = seq_na_in_msa_filter(df_omicron)\n",
    "\n",
    "get_all_dfs_info()"
   ]
  },
  {
   "cell_type": "markdown",
   "id": "6a65627e",
   "metadata": {},
   "source": [
    "# Location-wise stats"
   ]
  },
  {
   "cell_type": "code",
   "execution_count": 17,
   "id": "35a1e0a3",
   "metadata": {},
   "outputs": [
    {
     "name": "stdout",
     "output_type": "stream",
     "text": [
      "\n",
      "For VOC_alpha, Top 10 locations on the basis of frequency of sequence submissions in our data: \n",
      "\n",
      "Percentages: \n",
      "England        25.661260\n",
      "USA            16.555092\n",
      "Germany         9.650420\n",
      "Denmark         7.407407\n",
      "Sweden          5.912174\n",
      "Japan           4.350125\n",
      "Scotland        3.507312\n",
      "Netherlands     3.298596\n",
      "France          2.708287\n",
      "Switzerland     2.077272\n",
      "Name: location, dtype: float64\n",
      "\n",
      "Counts: \n",
      "England        158234\n",
      "USA            102083\n",
      "Germany         59507\n",
      "Denmark         45676\n",
      "Sweden          36456\n",
      "Japan           26824\n",
      "Scotland        21627\n",
      "Netherlands     20340\n",
      "France          16700\n",
      "Switzerland     12809\n",
      "Name: location, dtype: int64\n",
      "\n",
      "For VOC_beta, Top 10 locations on the basis of frequency of sequence submissions in our data: \n",
      "\n",
      "Percentages: \n",
      "South_Africa    12.980858\n",
      "Sweden          10.389610\n",
      "France          10.014156\n",
      "USA              7.225949\n",
      "Germany          6.973595\n",
      "Finland          5.816458\n",
      "Philippines      4.825506\n",
      "Belgium          4.394657\n",
      "Reunion          4.136148\n",
      "Netherlands      3.631440\n",
      "Name: location, dtype: float64\n",
      "\n",
      "Counts: \n",
      "South_Africa    2109\n",
      "Sweden          1688\n",
      "France          1627\n",
      "USA             1174\n",
      "Germany         1133\n",
      "Finland          945\n",
      "Philippines      784\n",
      "Belgium          714\n",
      "Reunion          672\n",
      "Netherlands      590\n",
      "Name: location, dtype: int64\n",
      "\n",
      "For VOC_gamma, Top 10 locations on the basis of frequency of sequence submissions in our data: \n",
      "\n",
      "Percentages: \n",
      "Brazil         36.312277\n",
      "USA            28.077981\n",
      "Canada         17.469703\n",
      "Italy           3.369241\n",
      "Belgium         2.874539\n",
      "Mexico          1.557286\n",
      "Spain           1.554359\n",
      "Wales           1.276272\n",
      "Netherlands     1.255781\n",
      "Germany         0.892805\n",
      "Name: location, dtype: float64\n",
      "\n",
      "Counts: \n",
      "Brazil         12405\n",
      "USA             9592\n",
      "Canada          5968\n",
      "Italy           1151\n",
      "Belgium          982\n",
      "Mexico           532\n",
      "Spain            531\n",
      "Wales            436\n",
      "Netherlands      429\n",
      "Germany          305\n",
      "Name: location, dtype: int64\n",
      "\n",
      "For VOC_delta, Top 10 locations on the basis of frequency of sequence submissions in our data: \n",
      "\n",
      "Percentages: \n",
      "England      54.461366\n",
      "India        16.976549\n",
      "Scotland      9.729359\n",
      "USA           5.219720\n",
      "Canada        2.416768\n",
      "Japan         0.968576\n",
      "Germany       0.896945\n",
      "Singapore     0.875144\n",
      "Spain         0.694509\n",
      "Finland       0.641565\n",
      "Name: location, dtype: float64\n",
      "\n",
      "Counts: \n",
      "England      17487\n",
      "India         5451\n",
      "Scotland      3124\n",
      "USA           1676\n",
      "Canada         776\n",
      "Japan          311\n",
      "Germany        288\n",
      "Singapore      281\n",
      "Spain          223\n",
      "Finland        206\n",
      "Name: location, dtype: int64\n",
      "\n",
      "For Unclassified, Top 10 locations on the basis of frequency of sequence submissions in our data: \n",
      "\n",
      "Percentages: \n",
      "USA            34.675395\n",
      "England        13.684379\n",
      "Denmark         6.609931\n",
      "Japan           5.428233\n",
      "Canada          4.522181\n",
      "Germany         3.313880\n",
      "Switzerland     2.606449\n",
      "Wales           2.324535\n",
      "Spain           1.831465\n",
      "Scotland        1.696915\n",
      "Name: location, dtype: float64\n",
      "\n",
      "Counts: \n",
      "USA            248952\n",
      "England         98247\n",
      "Denmark         47456\n",
      "Japan           38972\n",
      "Canada          32467\n",
      "Germany         23792\n",
      "Switzerland     18713\n",
      "Wales           16689\n",
      "Spain           13149\n",
      "Scotland        12183\n",
      "Name: location, dtype: int64\n",
      "\n",
      "For Complete, Top 10 locations on the basis of frequency of sequence submissions in our data: \n",
      "\n",
      "Percentages: \n",
      "USA            25.647270\n",
      "England        19.497839\n",
      "Denmark         6.643610\n",
      "Germany         6.218702\n",
      "Japan           4.699158\n",
      "Sweden          3.492144\n",
      "Scotland        2.609926\n",
      "Canada          2.519173\n",
      "Netherlands     2.280947\n",
      "Switzerland     2.271304\n",
      "Name: location, dtype: float64\n",
      "\n",
      "Counts: \n",
      "USA            361735\n",
      "England        275002\n",
      "Denmark         93703\n",
      "Germany         87710\n",
      "Japan           66278\n",
      "Sweden          49254\n",
      "Scotland        36811\n",
      "Canada          35531\n",
      "Netherlands     32171\n",
      "Switzerland     32035\n",
      "Name: location, dtype: int64\n"
     ]
    },
    {
     "ename": "AttributeError",
     "evalue": "'DataFrame' object has no attribute 'name'",
     "output_type": "error",
     "traceback": [
      "\u001b[0;31m---------------------------------------------------------------------------\u001b[0m",
      "\u001b[0;31mAttributeError\u001b[0m                            Traceback (most recent call last)",
      "Input \u001b[0;32mIn [17]\u001b[0m, in \u001b[0;36m<cell line: 11>\u001b[0;34m()\u001b[0m\n\u001b[1;32m     11\u001b[0m \u001b[38;5;28;01mtry\u001b[39;00m:\n\u001b[0;32m---> 12\u001b[0m     \u001b[43mlocation_stats\u001b[49m\u001b[43m(\u001b[49m\u001b[43mdf_alpha\u001b[49m\u001b[43m)\u001b[49m\n\u001b[1;32m     13\u001b[0m     location_stats(df_beta)\n",
      "Input \u001b[0;32mIn [17]\u001b[0m, in \u001b[0;36mlocation_stats\u001b[0;34m(DF)\u001b[0m\n\u001b[1;32m      1\u001b[0m \u001b[38;5;28;01mdef\u001b[39;00m \u001b[38;5;21mlocation_stats\u001b[39m(DF):\n\u001b[0;32m----> 2\u001b[0m     \u001b[38;5;28mprint\u001b[39m(\u001b[38;5;124mf\u001b[39m\u001b[38;5;124m'\u001b[39m\u001b[38;5;130;01m\\n\u001b[39;00m\u001b[38;5;124mFor \u001b[39m\u001b[38;5;132;01m{\u001b[39;00mDF\u001b[38;5;241m.\u001b[39mname\u001b[38;5;132;01m}\u001b[39;00m\u001b[38;5;124m, Top 10 locations on the basis of frequency of sequence submissions in our data: \u001b[39m\u001b[38;5;130;01m\\n\u001b[39;00m\u001b[38;5;130;01m\\n\u001b[39;00m\u001b[38;5;124mPercentages: \u001b[39m\u001b[38;5;124m'\u001b[39m)\n\u001b[1;32m      4\u001b[0m     \u001b[38;5;28mprint\u001b[39m(DF[\u001b[38;5;124m'\u001b[39m\u001b[38;5;124mlocation\u001b[39m\u001b[38;5;124m'\u001b[39m]\u001b[38;5;241m.\u001b[39mvalue_counts(normalize \u001b[38;5;241m=\u001b[39m \u001b[38;5;28;01mTrue\u001b[39;00m)\u001b[38;5;241m.\u001b[39mmul(\u001b[38;5;241m100\u001b[39m)\u001b[38;5;241m.\u001b[39mhead(\u001b[38;5;241m10\u001b[39m))\n",
      "File \u001b[0;32m~/anaconda3/lib/python3.8/site-packages/pandas/core/generic.py:5583\u001b[0m, in \u001b[0;36mNDFrame.__getattr__\u001b[0;34m(self, name)\u001b[0m\n\u001b[1;32m   5582\u001b[0m     \u001b[38;5;28;01mreturn\u001b[39;00m \u001b[38;5;28mself\u001b[39m[name]\n\u001b[0;32m-> 5583\u001b[0m \u001b[38;5;28;01mreturn\u001b[39;00m \u001b[38;5;28;43mobject\u001b[39;49m\u001b[38;5;241;43m.\u001b[39;49m\u001b[38;5;21;43m__getattribute__\u001b[39;49m\u001b[43m(\u001b[49m\u001b[38;5;28;43mself\u001b[39;49m\u001b[43m,\u001b[49m\u001b[43m \u001b[49m\u001b[43mname\u001b[49m\u001b[43m)\u001b[49m\n",
      "\u001b[0;31mAttributeError\u001b[0m: 'DataFrame' object has no attribute 'name'",
      "\nDuring handling of the above exception, another exception occurred:\n",
      "\u001b[0;31mAttributeError\u001b[0m                            Traceback (most recent call last)",
      "Input \u001b[0;32mIn [17]\u001b[0m, in \u001b[0;36m<cell line: 11>\u001b[0;34m()\u001b[0m\n\u001b[1;32m     31\u001b[0m location_stats(df_unclassified)\n\u001b[1;32m     32\u001b[0m location_stats(df)\n\u001b[0;32m---> 33\u001b[0m \u001b[43mlocation_stats\u001b[49m\u001b[43m(\u001b[49m\u001b[43mdf_omicron\u001b[49m\u001b[43m)\u001b[49m\n",
      "Input \u001b[0;32mIn [17]\u001b[0m, in \u001b[0;36mlocation_stats\u001b[0;34m(DF)\u001b[0m\n\u001b[1;32m      1\u001b[0m \u001b[38;5;28;01mdef\u001b[39;00m \u001b[38;5;21mlocation_stats\u001b[39m(DF):\n\u001b[0;32m----> 2\u001b[0m     \u001b[38;5;28mprint\u001b[39m(\u001b[38;5;124mf\u001b[39m\u001b[38;5;124m'\u001b[39m\u001b[38;5;130;01m\\n\u001b[39;00m\u001b[38;5;124mFor \u001b[39m\u001b[38;5;132;01m{\u001b[39;00mDF\u001b[38;5;241m.\u001b[39mname\u001b[38;5;132;01m}\u001b[39;00m\u001b[38;5;124m, Top 10 locations on the basis of frequency of sequence submissions in our data: \u001b[39m\u001b[38;5;130;01m\\n\u001b[39;00m\u001b[38;5;130;01m\\n\u001b[39;00m\u001b[38;5;124mPercentages: \u001b[39m\u001b[38;5;124m'\u001b[39m)\n\u001b[1;32m      4\u001b[0m     \u001b[38;5;28mprint\u001b[39m(DF[\u001b[38;5;124m'\u001b[39m\u001b[38;5;124mlocation\u001b[39m\u001b[38;5;124m'\u001b[39m]\u001b[38;5;241m.\u001b[39mvalue_counts(normalize \u001b[38;5;241m=\u001b[39m \u001b[38;5;28;01mTrue\u001b[39;00m)\u001b[38;5;241m.\u001b[39mmul(\u001b[38;5;241m100\u001b[39m)\u001b[38;5;241m.\u001b[39mhead(\u001b[38;5;241m10\u001b[39m))\n\u001b[1;32m      5\u001b[0m     \u001b[38;5;28mprint\u001b[39m(\u001b[38;5;124m'\u001b[39m\u001b[38;5;130;01m\\n\u001b[39;00m\u001b[38;5;124mCounts: \u001b[39m\u001b[38;5;124m'\u001b[39m)\n",
      "File \u001b[0;32m~/anaconda3/lib/python3.8/site-packages/pandas/core/generic.py:5583\u001b[0m, in \u001b[0;36mNDFrame.__getattr__\u001b[0;34m(self, name)\u001b[0m\n\u001b[1;32m   5576\u001b[0m \u001b[38;5;28;01mif\u001b[39;00m (\n\u001b[1;32m   5577\u001b[0m     name \u001b[38;5;129;01mnot\u001b[39;00m \u001b[38;5;129;01min\u001b[39;00m \u001b[38;5;28mself\u001b[39m\u001b[38;5;241m.\u001b[39m_internal_names_set\n\u001b[1;32m   5578\u001b[0m     \u001b[38;5;129;01mand\u001b[39;00m name \u001b[38;5;129;01mnot\u001b[39;00m \u001b[38;5;129;01min\u001b[39;00m \u001b[38;5;28mself\u001b[39m\u001b[38;5;241m.\u001b[39m_metadata\n\u001b[1;32m   5579\u001b[0m     \u001b[38;5;129;01mand\u001b[39;00m name \u001b[38;5;129;01mnot\u001b[39;00m \u001b[38;5;129;01min\u001b[39;00m \u001b[38;5;28mself\u001b[39m\u001b[38;5;241m.\u001b[39m_accessors\n\u001b[1;32m   5580\u001b[0m     \u001b[38;5;129;01mand\u001b[39;00m \u001b[38;5;28mself\u001b[39m\u001b[38;5;241m.\u001b[39m_info_axis\u001b[38;5;241m.\u001b[39m_can_hold_identifiers_and_holds_name(name)\n\u001b[1;32m   5581\u001b[0m ):\n\u001b[1;32m   5582\u001b[0m     \u001b[38;5;28;01mreturn\u001b[39;00m \u001b[38;5;28mself\u001b[39m[name]\n\u001b[0;32m-> 5583\u001b[0m \u001b[38;5;28;01mreturn\u001b[39;00m \u001b[38;5;28;43mobject\u001b[39;49m\u001b[38;5;241;43m.\u001b[39;49m\u001b[38;5;21;43m__getattribute__\u001b[39;49m\u001b[43m(\u001b[49m\u001b[38;5;28;43mself\u001b[39;49m\u001b[43m,\u001b[49m\u001b[43m \u001b[49m\u001b[43mname\u001b[49m\u001b[43m)\u001b[49m\n",
      "\u001b[0;31mAttributeError\u001b[0m: 'DataFrame' object has no attribute 'name'"
     ]
    }
   ],
   "source": [
    "def location_stats(DF):\n",
    "    print(f'\\nFor {DF.name}, Top 10 locations on the basis of frequency of sequence submissions in our data: \\n\\nPercentages: ')\n",
    "\n",
    "    print(DF['location'].value_counts(normalize = True).mul(100).head(10))\n",
    "    print('\\nCounts: ')\n",
    "    print(DF['location'].value_counts().sort_values(ascending = False).head(10))\n",
    "\n",
    "\n",
    "# I have given names to the dataframes above but for some reason it \n",
    "# keeps throwing error at random runs, so, being defensive about it.\n",
    "try:\n",
    "    location_stats(df_alpha)\n",
    "    location_stats(df_beta)\n",
    "    location_stats(df_gamma)\n",
    "    location_stats(df_delta)\n",
    "    location_stats(df_unclassified)\n",
    "    location_stats(df)\n",
    "    location_stats(df_omicron)\n",
    "except AttributeError:\n",
    "    df_alpha.name = 'VOC_alpha'\n",
    "    df_beta.name = 'VOC_beta'\n",
    "    df_gamma.name = 'VOC_gamma'\n",
    "    df_delta.name = 'VOC_delta'\n",
    "    df.name = 'Complete'\n",
    "    df_all_var.name = 'All_variants'\n",
    "    df_unclassified.name = 'Unclassified'\n",
    "    location_stats(df_alpha)\n",
    "    location_stats(df_beta)\n",
    "    location_stats(df_gamma)\n",
    "    location_stats(df_delta)\n",
    "    location_stats(df_unclassified)\n",
    "    location_stats(df)\n",
    "    location_stats(df_omicron)\n"
   ]
  },
  {
   "cell_type": "markdown",
   "id": "8f14caf9",
   "metadata": {},
   "source": [
    "# Saving the dataframes and supplementary tables"
   ]
  },
  {
   "cell_type": "markdown",
   "id": "e36c2eea",
   "metadata": {},
   "source": [
    "## Saving Supplementary Tables"
   ]
  },
  {
   "cell_type": "markdown",
   "id": "cc519e24",
   "metadata": {
    "heading_collapsed": true
   },
   "source": [
    "### Supplementary Table 1"
   ]
  },
  {
   "cell_type": "code",
   "execution_count": 31,
   "id": "bcf9d2e4",
   "metadata": {
    "hidden": true
   },
   "outputs": [
    {
     "data": {
      "text/html": [
       "<div>\n",
       "<style scoped>\n",
       "    .dataframe tbody tr th:only-of-type {\n",
       "        vertical-align: middle;\n",
       "    }\n",
       "\n",
       "    .dataframe tbody tr th {\n",
       "        vertical-align: top;\n",
       "    }\n",
       "\n",
       "    .dataframe thead th {\n",
       "        text-align: right;\n",
       "    }\n",
       "</style>\n",
       "<table border=\"1\" class=\"dataframe\">\n",
       "  <thead>\n",
       "    <tr style=\"text-align: right;\">\n",
       "      <th></th>\n",
       "      <th>Accession ids | (1-1000000)</th>\n",
       "      <th>Accession ids | (1000001-1410423)</th>\n",
       "    </tr>\n",
       "  </thead>\n",
       "  <tbody>\n",
       "    <tr>\n",
       "      <th>0</th>\n",
       "      <td>EPI_ISL_402120</td>\n",
       "      <td>EPI_ISL_2860172</td>\n",
       "    </tr>\n",
       "    <tr>\n",
       "      <th>1</th>\n",
       "      <td>EPI_ISL_403928</td>\n",
       "      <td>EPI_ISL_2860168</td>\n",
       "    </tr>\n",
       "    <tr>\n",
       "      <th>2</th>\n",
       "      <td>EPI_ISL_406800</td>\n",
       "      <td>EPI_ISL_2860164</td>\n",
       "    </tr>\n",
       "    <tr>\n",
       "      <th>3</th>\n",
       "      <td>EPI_ISL_406717</td>\n",
       "      <td>EPI_ISL_2860155</td>\n",
       "    </tr>\n",
       "    <tr>\n",
       "      <th>4</th>\n",
       "      <td>EPI_ISL_406716</td>\n",
       "      <td>EPI_ISL_2860149</td>\n",
       "    </tr>\n",
       "  </tbody>\n",
       "</table>\n",
       "</div>"
      ],
      "text/plain": [
       "  Accession ids | (1-1000000) Accession ids | (1000001-1410423)\n",
       "0              EPI_ISL_402120                   EPI_ISL_2860172\n",
       "1              EPI_ISL_403928                   EPI_ISL_2860168\n",
       "2              EPI_ISL_406800                   EPI_ISL_2860164\n",
       "3              EPI_ISL_406717                   EPI_ISL_2860155\n",
       "4              EPI_ISL_406716                   EPI_ISL_2860149"
      ]
     },
     "execution_count": 31,
     "metadata": {},
     "output_type": "execute_result"
    }
   ],
   "source": [
    "first_mil = df['accession_ids'].iloc[:1000000]\n",
    "first_mil.reset_index(inplace=True, drop=True)\n",
    "after_mil = df['accession_ids'].iloc[1000000:]\n",
    "after_mil.reset_index(inplace=True, drop=True)\n",
    "\n",
    "accession_ids = pd.concat(\n",
    "    [first_mil, after_mil], \n",
    "    axis=1, \n",
    "    ignore_index=True\n",
    ")\n",
    "\n",
    "accession_ids.rename(\n",
    "    columns={\n",
    "        0: 'Accession ids | (1-1000000)', \n",
    "        1: 'Accession ids | (1000001-1410423)'\n",
    "    }, \n",
    "    inplace=True\n",
    ")\n",
    "\n",
    "# accession_ids.to_excel(\n",
    "#     '../supplementary_tables/Supplementary Table 1.xlsx', \n",
    "#     index=False, \n",
    "#     sheet_name='Acknowledgement Table', \n",
    "#     header=[\n",
    "#         'Accession ids | (1-1000000)', \n",
    "#         'Accession ids | (1000001-1410423)'\n",
    "#     ]\n",
    "# )\n",
    "\n",
    "accession_ids.head()"
   ]
  },
  {
   "cell_type": "markdown",
   "id": "3b44929e",
   "metadata": {
    "heading_collapsed": true
   },
   "source": [
    "### Supplementary Table 3"
   ]
  },
  {
   "cell_type": "code",
   "execution_count": 21,
   "id": "24de864f",
   "metadata": {
    "hidden": true
   },
   "outputs": [],
   "source": [
    "df_alpha.reset_index(drop=True, inplace=True)\n",
    "df_beta.reset_index(drop=True, inplace=True)\n",
    "df_gamma.reset_index(drop=True, inplace=True)\n",
    "df_delta.reset_index(drop=True, inplace=True)\n",
    "df_unclassified.reset_index(drop=True, inplace=True)\n",
    "df.reset_index(drop=True, inplace=True)\n",
    "df_omicron.reset_index(drop=True, inplace=True)"
   ]
  },
  {
   "cell_type": "code",
   "execution_count": 27,
   "id": "a944b3e7",
   "metadata": {
    "hidden": true
   },
   "outputs": [
    {
     "data": {
      "text/html": [
       "<div>\n",
       "<style scoped>\n",
       "    .dataframe tbody tr th:only-of-type {\n",
       "        vertical-align: middle;\n",
       "    }\n",
       "\n",
       "    .dataframe tbody tr th {\n",
       "        vertical-align: top;\n",
       "    }\n",
       "\n",
       "    .dataframe thead th {\n",
       "        text-align: right;\n",
       "    }\n",
       "</style>\n",
       "<table border=\"1\" class=\"dataframe\">\n",
       "  <thead>\n",
       "    <tr style=\"text-align: right;\">\n",
       "      <th></th>\n",
       "      <th>VOC Alpha</th>\n",
       "      <th>VOC Beta</th>\n",
       "      <th>VOC Gamma</th>\n",
       "      <th>VOC Delta</th>\n",
       "      <th>Non-VOCs</th>\n",
       "    </tr>\n",
       "  </thead>\n",
       "  <tbody>\n",
       "    <tr>\n",
       "      <th>0</th>\n",
       "      <td>EPI_ISL_2898105</td>\n",
       "      <td>EPI_ISL_2508437</td>\n",
       "      <td>EPI_ISL_2612488</td>\n",
       "      <td>EPI_ISL_2937904</td>\n",
       "      <td>EPI_ISL_402120</td>\n",
       "    </tr>\n",
       "    <tr>\n",
       "      <th>1</th>\n",
       "      <td>EPI_ISL_2103488</td>\n",
       "      <td>EPI_ISL_1191821</td>\n",
       "      <td>EPI_ISL_540908</td>\n",
       "      <td>EPI_ISL_1663516</td>\n",
       "      <td>EPI_ISL_403928</td>\n",
       "    </tr>\n",
       "    <tr>\n",
       "      <th>2</th>\n",
       "      <td>EPI_ISL_2282167</td>\n",
       "      <td>EPI_ISL_2802129</td>\n",
       "      <td>EPI_ISL_577484</td>\n",
       "      <td>EPI_ISL_3263174</td>\n",
       "      <td>EPI_ISL_406800</td>\n",
       "    </tr>\n",
       "    <tr>\n",
       "      <th>3</th>\n",
       "      <td>EPI_ISL_2374676</td>\n",
       "      <td>EPI_ISL_2140654</td>\n",
       "      <td>EPI_ISL_573874</td>\n",
       "      <td>EPI_ISL_3132911</td>\n",
       "      <td>EPI_ISL_406717</td>\n",
       "    </tr>\n",
       "    <tr>\n",
       "      <th>4</th>\n",
       "      <td>EPI_ISL_2279938</td>\n",
       "      <td>EPI_ISL_700551</td>\n",
       "      <td>EPI_ISL_726669</td>\n",
       "      <td>EPI_ISL_3132910</td>\n",
       "      <td>EPI_ISL_406716</td>\n",
       "    </tr>\n",
       "  </tbody>\n",
       "</table>\n",
       "</div>"
      ],
      "text/plain": [
       "         VOC Alpha         VOC Beta        VOC Gamma        VOC Delta  \\\n",
       "0  EPI_ISL_2898105  EPI_ISL_2508437  EPI_ISL_2612488  EPI_ISL_2937904   \n",
       "1  EPI_ISL_2103488  EPI_ISL_1191821   EPI_ISL_540908  EPI_ISL_1663516   \n",
       "2  EPI_ISL_2282167  EPI_ISL_2802129   EPI_ISL_577484  EPI_ISL_3263174   \n",
       "3  EPI_ISL_2374676  EPI_ISL_2140654   EPI_ISL_573874  EPI_ISL_3132911   \n",
       "4  EPI_ISL_2279938   EPI_ISL_700551   EPI_ISL_726669  EPI_ISL_3132910   \n",
       "\n",
       "         Non-VOCs  \n",
       "0  EPI_ISL_402120  \n",
       "1  EPI_ISL_403928  \n",
       "2  EPI_ISL_406800  \n",
       "3  EPI_ISL_406717  \n",
       "4  EPI_ISL_406716  "
      ]
     },
     "execution_count": 27,
     "metadata": {},
     "output_type": "execute_result"
    }
   ],
   "source": [
    "supp_3 = pd.concat([df_alpha.accession_ids, df_beta.accession_ids, df_gamma.accession_ids,\n",
    "          df_delta.accession_ids, df_unclassified.accession_ids], axis=1)\n",
    "\n",
    "supp_3.columns.values[0]='VOC Alpha'\n",
    "supp_3.columns.values[1]='VOC Beta'\n",
    "supp_3.columns.values[2]='VOC Gamma'\n",
    "supp_3.columns.values[3]='VOC Delta'\n",
    "supp_3.columns.values[4]='Non-VOCs'\n",
    "\n",
    "## Saving to csv\n",
    "# supp_3.to_csv('../supplementary_tables/Supplementary Table 3.csv', index=False)\n",
    "\n",
    "supp_3.head()"
   ]
  },
  {
   "cell_type": "markdown",
   "id": "b90efa85",
   "metadata": {
    "heading_collapsed": true
   },
   "source": [
    "### Supplementary Table 7"
   ]
  },
  {
   "cell_type": "code",
   "execution_count": 26,
   "id": "b61e7ea0",
   "metadata": {
    "hidden": true
   },
   "outputs": [
    {
     "data": {
      "text/html": [
       "<div>\n",
       "<style scoped>\n",
       "    .dataframe tbody tr th:only-of-type {\n",
       "        vertical-align: middle;\n",
       "    }\n",
       "\n",
       "    .dataframe tbody tr th {\n",
       "        vertical-align: top;\n",
       "    }\n",
       "\n",
       "    .dataframe thead th {\n",
       "        text-align: right;\n",
       "    }\n",
       "</style>\n",
       "<table border=\"1\" class=\"dataframe\">\n",
       "  <thead>\n",
       "    <tr style=\"text-align: right;\">\n",
       "      <th></th>\n",
       "      <th>VOC Omicron</th>\n",
       "    </tr>\n",
       "  </thead>\n",
       "  <tbody>\n",
       "    <tr>\n",
       "      <th>0</th>\n",
       "      <td>EPI_ISL_7337441</td>\n",
       "    </tr>\n",
       "    <tr>\n",
       "      <th>1</th>\n",
       "      <td>EPI_ISL_7337502</td>\n",
       "    </tr>\n",
       "    <tr>\n",
       "      <th>2</th>\n",
       "      <td>EPI_ISL_8604930</td>\n",
       "    </tr>\n",
       "    <tr>\n",
       "      <th>3</th>\n",
       "      <td>EPI_ISL_7543747</td>\n",
       "    </tr>\n",
       "    <tr>\n",
       "      <th>4</th>\n",
       "      <td>EPI_ISL_8604928</td>\n",
       "    </tr>\n",
       "  </tbody>\n",
       "</table>\n",
       "</div>"
      ],
      "text/plain": [
       "       VOC Omicron\n",
       "0  EPI_ISL_7337441\n",
       "1  EPI_ISL_7337502\n",
       "2  EPI_ISL_8604930\n",
       "3  EPI_ISL_7543747\n",
       "4  EPI_ISL_8604928"
      ]
     },
     "execution_count": 26,
     "metadata": {},
     "output_type": "execute_result"
    }
   ],
   "source": [
    "supp_7 = df_omicron.loc[:, ['accession_ids']]\n",
    "supp_7.columns.values[0]='VOC Omicron'\n",
    "\n",
    "# supp_7.to_csv('../supplementary_tables/Supplementary Table 7.csv', index=False)\n",
    "\n",
    "supp_7.head()"
   ]
  },
  {
   "cell_type": "markdown",
   "id": "d90810a1",
   "metadata": {},
   "source": [
    "## Saving dataframes"
   ]
  },
  {
   "cell_type": "code",
   "execution_count": null,
   "id": "faf0431a",
   "metadata": {},
   "outputs": [],
   "source": [
    "# df_alpha.to_csv('../csv_files/filtered_voc_alpha.csv', index=False)\n",
    "# df_beta.to_csv('../csv_files/filtered_voc_beta.csv', index=False)\n",
    "# df_gamma.to_csv('../csv_files/filtered_voc_gamma.csv', index=False)\n",
    "# df_delta.to_csv('../csv_files/filtered_voc_delta.csv', index=False)\n",
    "# df_unclassified.to_csv('../csv_files/filtered_non_vocs.csv', index=False)\n",
    "# df.to_csv('../csv_files/filtered_sars_cov2.csv', index=False)\n",
    "# df_omicron.to_csv('../csv_files/filtered_voc_omicron.csv', index=False)"
   ]
  },
  {
   "cell_type": "code",
   "execution_count": null,
   "id": "0989c2b9",
   "metadata": {},
   "outputs": [],
   "source": [
    "# df[~df.accession_ids.isin(df_gamma.accession_ids)].loc[\n",
    "#     :, ['Infection_Timeline', 'count_CG']\n",
    "# ].to_csv(\n",
    "#     '../csv_files/nongamma_count_CG.csv', index=False\n",
    "# )"
   ]
  }
 ],
 "metadata": {
  "hide_input": false,
  "kernelspec": {
   "display_name": "Python 3 (ipykernel)",
   "language": "python",
   "name": "python3"
  },
  "language_info": {
   "codemirror_mode": {
    "name": "ipython",
    "version": 3
   },
   "file_extension": ".py",
   "mimetype": "text/x-python",
   "name": "python",
   "nbconvert_exporter": "python",
   "pygments_lexer": "ipython3",
   "version": "3.8.12"
  },
  "toc": {
   "base_numbering": 1,
   "nav_menu": {},
   "number_sections": true,
   "sideBar": true,
   "skip_h1_title": false,
   "title_cell": "Table of Contents",
   "title_sidebar": "Contents",
   "toc_cell": false,
   "toc_position": {},
   "toc_section_display": true,
   "toc_window_display": true
  },
  "varInspector": {
   "cols": {
    "lenName": 16,
    "lenType": 16,
    "lenVar": 40
   },
   "kernels_config": {
    "python": {
     "delete_cmd_postfix": "",
     "delete_cmd_prefix": "del ",
     "library": "var_list.py",
     "varRefreshCmd": "print(var_dic_list())"
    },
    "r": {
     "delete_cmd_postfix": ") ",
     "delete_cmd_prefix": "rm(",
     "library": "var_list.r",
     "varRefreshCmd": "cat(var_dic_list()) "
    }
   },
   "types_to_exclude": [
    "module",
    "function",
    "builtin_function_or_method",
    "instance",
    "_Feature"
   ],
   "window_display": false
  }
 },
 "nbformat": 4,
 "nbformat_minor": 5
}
